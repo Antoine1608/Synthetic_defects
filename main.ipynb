{
 "cells": [
  {
   "cell_type": "code",
   "execution_count": 1,
   "id": "a89da350-791f-4dda-871a-465e5af9b404",
   "metadata": {},
   "outputs": [],
   "source": [
    "import os\n",
    "import glob\n",
    "import cv2\n",
    "import matplotlib.pyplot as plt\n",
    "import numpy as np\n",
    "from PIL import Image \n",
    "import random\n",
    "import os\n",
    "import shutil\n",
    "from itertools import chain, product\n",
    "import random\n",
    "from time import time"
   ]
  },
  {
   "cell_type": "code",
   "execution_count": 2,
   "id": "cfd4510a-3eec-4d27-8b94-87e2b018417d",
   "metadata": {},
   "outputs": [],
   "source": [
    "t1 = time()"
   ]
  },
  {
   "cell_type": "markdown",
   "id": "3ca5e9f0-5a8f-4dd1-a55e-3591772eae8b",
   "metadata": {},
   "source": [
    "## 1- Récupération des data"
   ]
  },
  {
   "cell_type": "markdown",
   "id": "2b8cfe68-6e9f-42ac-9ac9-480fe2fc0ed3",
   "metadata": {},
   "source": [
    "* C, NC, empty -> images avec languette conforme, languette non conforme, sans languette\n",
    "* tabs/C, /NC, /empty -> fenêtres avec languette conforme, languette non conforme, sans languette\n",
    "* synthetic/... -> images synthétiques"
   ]
  },
  {
   "cell_type": "code",
   "execution_count": 3,
   "id": "f60d6202-7391-46f1-afa9-fa83d70703c7",
   "metadata": {},
   "outputs": [],
   "source": [
    "C = r\"D:/data/C\"\n",
    "NC = r\"D:/data/NC\"\n",
    "EMPTY = r\"D:/data/empty\"\n",
    "TABS_EMPTY = r\"D:/data/tabs/empty\"\n",
    "TABS_C = r\"D:/data/tabs/C\"\n",
    "TABS_NC = r\"D:/data/tabs/NC\"\n",
    "SYNTHETIC_NC = r\"D:/data/synthetic/NC\"\n",
    "SYNTHETIC_C = r\"D:/data/synthetic/C\"\n",
    "SYNTHETIC_EMPTY = r\"D:/data/synthetic/empty\"\n",
    "SEGMENTED_TABS_C = r\"D:/data\\tabs\\segmented_tabs\\C\"\n",
    "SEGMENTED_TABS_NC = r\"D:/data\\tabs\\segmented_tabs\\NC\"\n",
    "# fenêtre languette\n",
    "x0, y0, x1, y1 = 0, 25, 60, 65"
   ]
  },
  {
   "cell_type": "markdown",
   "id": "5a05e60d-dcba-4b2c-ab6a-b73c6bd822d4",
   "metadata": {},
   "source": [
    "Récupération d'images conformes"
   ]
  },
  {
   "cell_type": "code",
   "execution_count": 4,
   "id": "076aa117-8309-4038-9ad8-6c631b1eecbd",
   "metadata": {},
   "outputs": [],
   "source": [
    "for img in glob.glob(r\"D:\\train_double_tape_LH03\\C\\*.bmp\")[0:10]:\n",
    "    shutil.copy(img, os.path.join(C, os.path.basename(img)))"
   ]
  },
  {
   "cell_type": "markdown",
   "id": "acfe62de-64ad-406e-91fe-b05c81b4475e",
   "metadata": {},
   "source": [
    "Récupération d'images sans languette"
   ]
  },
  {
   "cell_type": "markdown",
   "id": "456c52c3-ea11-43aa-8300-590b9fedd037",
   "metadata": {},
   "source": [
    "Récupération d'images avec languette non conforme"
   ]
  },
  {
   "cell_type": "code",
   "execution_count": 5,
   "id": "be28dbb2-b670-441a-8a82-732eafa16166",
   "metadata": {},
   "outputs": [],
   "source": [
    "for img in glob.glob(r\"D:\\train_double_tape_LH03\\NC\\*.bmp\")[0:10]:\n",
    "    shutil.copy(img, os.path.join(NC,os.path.basename(img)))"
   ]
  },
  {
   "cell_type": "markdown",
   "id": "d77c7bd1-6d7c-4adc-b69d-7aa378d385b5",
   "metadata": {},
   "source": [
    "Récupération de fenêtres avec languette absente"
   ]
  },
  {
   "cell_type": "code",
   "execution_count": 6,
   "id": "d42a87b5-159e-45f4-b8a8-c0dd3852b687",
   "metadata": {},
   "outputs": [],
   "source": [
    "# récupération d'une fenêtre de l'image où se trouve la portion à extraire\n",
    "def extract_window(image_path, x0, y0, x1, y1) -> 'np.ndarray':   \n",
    "    # Vérification du chemin\n",
    "    assert os.path.exists(image_path), \"Le fichier n'existe pas au chemin spécifié\"\n",
    "    \n",
    "    # Chargement de l'image\n",
    "    image = cv2.imread(image_path)\n",
    "    assert image is not None, \"L'image n'a pas pu être lue\"\n",
    "    \n",
    "    # Recadrage\n",
    "    img_cropped = image[x0:x1, y0:y1]                     # ATTENTION à l'ordre des coordonnées\n",
    "    \n",
    "    # Affichage de l'image \n",
    "    #plt.imshow(cv2.cvtColor(image, cv2.COLOR_BGR2RGB))\n",
    "    #plt.title(\"Image originale\")\n",
    "    #plt.show()\n",
    "    \n",
    "    # Affichage de l'image recadrée\n",
    "    #plt.imshow(cv2.cvtColor(img_cropped, cv2.COLOR_BGR2RGB))\n",
    "    #plt.title(\"Image recadrée\")\n",
    "    #plt.show()\n",
    "\n",
    "    return img_cropped\n",
    "\n",
    "# exemple :\n",
    "image_path = r\"data\\NC\\LH_11371_03_OK.bmp\"\n",
    "#extract_window(image_path, x0, y0, x1, y1)"
   ]
  },
  {
   "cell_type": "code",
   "execution_count": 7,
   "id": "4128cae1-82fa-413f-9a11-1cd155d4b37b",
   "metadata": {},
   "outputs": [],
   "source": [
    "for img in glob.glob(os.path.join(EMPTY,\"*.bmp\")):\n",
    "   cv2.imwrite(os.path.join(TABS_EMPTY, os.path.basename(img)), extract_window(img, x0, y0, x1, y1))"
   ]
  },
  {
   "cell_type": "markdown",
   "id": "222337e1-15a1-4b10-88ca-f097ebea408a",
   "metadata": {},
   "source": [
    "Récupération d'images de languette C et NC"
   ]
  },
  {
   "cell_type": "code",
   "execution_count": 8,
   "id": "604e14d9-3505-42d6-bdd2-91a4985b8875",
   "metadata": {},
   "outputs": [],
   "source": [
    "for img in glob.glob(os.path.join(C,\"*.bmp\"))[0:10]:\n",
    "   cv2.imwrite(os.path.join(TABS_C,os.path.basename(img)), extract_window(img, x0, y0, x1, y1))\n",
    "\n",
    "for img in glob.glob(os.path.join(NC,\"*.bmp\"))[0:10]:\n",
    "   cv2.imwrite(os.path.join(TABS_NC,os.path.basename(img)), extract_window(img, x0, y0, x1, y1))"
   ]
  },
  {
   "cell_type": "markdown",
   "id": "ea666acb-dd91-4966-8f05-2653d3ea5b50",
   "metadata": {},
   "source": [
    "Segmentation des images de languette NC"
   ]
  },
  {
   "cell_type": "code",
   "execution_count": 9,
   "id": "08400672-ea41-48cf-9739-9f602611825d",
   "metadata": {},
   "outputs": [],
   "source": [
    "for img in glob.glob(os.path.join(TABS_NC, \"*.bmp\")):\n",
    "    image = cv2.imread(img)\n",
    "    \n",
    "    # Ajuster le rectangle pour couvrir toute l'image\n",
    "    height, width = image.shape[:2]\n",
    "    rectangle = (1, 1, width - 5, height - 2)  # Presque toute l'image, en évitant les bords\n",
    "    \n",
    "    # Réinitialiser le masque et les modèles\n",
    "    mask = np.zeros(image.shape[:2], np.uint8)\n",
    "    backgroundModel = np.zeros((1, 65), np.float64)\n",
    "    foregroundModel = np.zeros((1, 65), np.float64)\n",
    "    \n",
    "    # Appliquer GrabCut avec le rectangle ajusté\n",
    "    cv2.grabCut(image, mask, rectangle, backgroundModel, foregroundModel, 5, cv2.GC_INIT_WITH_RECT)\n",
    "    \n",
    "    # Visualiser le masque généré\n",
    "    #plt.figure(figsize=(10, 5))\n",
    "    #plt.subplot(1, 3, 1)\n",
    "    #plt.title('Masque initial (GrabCut)')\n",
    "    #plt.imshow(mask, cmap='gray')\n",
    "    #plt.axis('off')\n",
    "    \n",
    "    # Mettre à jour le masque pour extraire le premier plan\n",
    "    mask2 = np.where((mask == 2) | (mask == 0), 0, 1).astype('uint8')\n",
    "    \n",
    "    # Appliquer le masque à l'image\n",
    "    image_segmented = image * mask2[:, :, np.newaxis]\n",
    "\n",
    "    # centrage des images segmentées sur la queue des languettes\n",
    "    height, width, channels = image_segmented.shape\n",
    "    new_height = int(height * 5 / 3)\n",
    "    augmented_image = np.zeros((new_height, width, channels), dtype=image.dtype)\n",
    "    augmented_image[0:height, 0: width, :] = image_segmented\n",
    "    cv2.imwrite(os.path.join(SEGMENTED_TABS_NC, os.path.basename(img)), augmented_image)\n",
    "    \n",
    "    # Afficher le résultat\n",
    "    #plt.subplot(1, 3, 2)\n",
    "    #plt.title('Image Segmentée')\n",
    "    #plt.imshow(augmented_image)\n",
    "    #plt.axis('off')\n",
    "    \n",
    "    #plt.subplot(1, 3, 3)\n",
    "    #plt.title('Image Originale')\n",
    "    #plt.imshow(cv2.cvtColor(image, cv2.COLOR_BGR2RGB))\n",
    "    #plt.axis('off')\n",
    "    \n",
    "    #plt.tight_layout()\n",
    "    #plt.show()"
   ]
  },
  {
   "cell_type": "markdown",
   "id": "1a5b4357-8026-4841-8d91-2df4e90c0889",
   "metadata": {},
   "source": [
    "## 2- Génération d'images synthétiques sans languette"
   ]
  },
  {
   "cell_type": "markdown",
   "id": "80aeeafc-8297-4716-a32c-50375ee564ef",
   "metadata": {},
   "source": [
    "* Par combinaison d'images vides\n",
    "* Par remplacement de la zone d'intérêt d'images C ou NC par une fenêtre vide"
   ]
  },
  {
   "cell_type": "markdown",
   "id": "5b091ee3-f35c-4b8b-a878-22c77dfd3455",
   "metadata": {},
   "source": [
    "Par combinaison d'images vides"
   ]
  },
  {
   "cell_type": "code",
   "execution_count": 10,
   "id": "7f985f27-f246-469b-b532-d014986c3199",
   "metadata": {},
   "outputs": [],
   "source": [
    "i = 0\n",
    "for img1, img2 in product(glob.glob(os.path.join(EMPTY,\"*.bmp\")), glob.glob(os.path.join(EMPTY,\"*.bmp\"))):\n",
    "    \n",
    "    # Normalisation ou transformation des images (division par 2 ici)\n",
    "    img1 = (cv2.imread(img1) // 2).astype('uint8')\n",
    "    img2 = (cv2.imread(img2) // 2).astype('uint8')\n",
    "    \n",
    "    # Additionner les images\n",
    "    result = img1 + img2 \n",
    "    \n",
    "    # Afficher le résultat\n",
    "    #plt.imshow(result)\n",
    "    #plt.show()\n",
    "\n",
    "    cv2.imwrite(os.path.join(SYNTHETIC_EMPTY, \"synth_image_1_{i}.bmp\"), result)\n",
    "\n",
    "    i += 1"
   ]
  },
  {
   "cell_type": "markdown",
   "id": "38bf6a35-d218-4420-a8ae-ad09165e8469",
   "metadata": {},
   "source": [
    "Par remplacement de la zone d'intérêt d'images C ou NC par une fenêtre vide"
   ]
  },
  {
   "cell_type": "code",
   "execution_count": 11,
   "id": "50e672b3-e4ce-4981-80ef-20e33300940e",
   "metadata": {},
   "outputs": [],
   "source": [
    "i = 0\n",
    "for b, w in product(glob.glob(os.path.join(NC, \"*.bmp\")), glob.glob(os.path.join(TABS_EMPTY, \"*.bmp\"))):\n",
    "    \n",
    "    b = cv2.imread(b)\n",
    "    w = cv2.imread(w)\n",
    "    #plt.imshow(b)  \n",
    "    #plt.title('b_before')\n",
    "    #plt.show()\n",
    "    \n",
    "    # adaptation de la luminosité de la fenêtre à son voisinage\n",
    "\n",
    "    # Sélectionner une région de `w` pour le calcul de la luminosité\n",
    "    region_w = w[int(w.shape[0] * 1 / 3):int(w.shape[0] * 2 / 3), int(w.shape[1] * 2.5 / 3):int(w.shape[1] * 3 / 3), :]\n",
    "    lum_w = np.mean(region_w)\n",
    "    \n",
    "    # Sélectionner une région de `b` pour le calcul de la luminosité\n",
    "    region_b = b[x0:x1, y0:y1, :]\n",
    "    lum_b = np.mean(region_b[int(region_b.shape[0] * 1 / 3):int(region_b.shape[0] * 2 / 3), int(region_b.shape[1] * 2.5 / 3):int(region_b.shape[1] * 3 / 3), :])\n",
    "    \n",
    "    # Différence de luminosité\n",
    "    delta_lum = lum_b - lum_w\n",
    "    # print(f\"Luminosité moyenne - w: {lum_w}, b: {lum_b}, delta: {delta_lum}\")\n",
    "    \n",
    "    # Ajuster la luminosité de `w`\n",
    "    w_float = w.astype(np.float32)  # Conversion en float pour éviter les saturations\n",
    "    w_adjusted = w_float * (lum_b / lum_w)  # Ajustement proportionnel\n",
    "    \n",
    "    # Clip pour éviter les valeurs hors plage\n",
    "    w_adjusted = np.clip(w_adjusted, 0, 255).astype(np.uint8)\n",
    "    #plt.imshow(w)\n",
    "    #plt.title('w')\n",
    "    #plt.show()\n",
    "    \n",
    "    #plt.imshow(w_adjusted)\n",
    "    #plt.title('w_adjusted')\n",
    "    #plt.show()\n",
    "    \n",
    "    b[x0:x1, y0:y1] = w_adjusted # ATTENTION à la position de collage\n",
    "    #plt.imshow(b)\n",
    "    #plt.title('b_after')\n",
    "    #plt.show()\n",
    "\n",
    "    cv2.imwrite(os.path.join(SYNTHETIC_EMPTY,\"synth_2_{i}.bmp\"), b)\n",
    "    i += 1"
   ]
  },
  {
   "cell_type": "markdown",
   "id": "60e3db67-8635-439c-aa48-0af2711b4d31",
   "metadata": {},
   "source": [
    "## 3- Génération d'images synthétiques de défauts"
   ]
  },
  {
   "cell_type": "markdown",
   "id": "b7c91872-75ac-4930-ad35-a839399387d0",
   "metadata": {},
   "source": [
    "* Par superposition de languettes NC sur des images vides => synth_NC_a_\n",
    "* Par superposition de languette conforme décalée sur des images vides => synth_NC_b_\n",
    "* Par superposition de languette conforme décalée sur des images conformes => synth_NC_c_\n",
    "* Par superposition de deux languettes conformes décalées sur des images vides => synth_NC_d_"
   ]
  },
  {
   "cell_type": "markdown",
   "id": "af6f0d84-0ef1-4c15-a1d5-3fac958abdc0",
   "metadata": {},
   "source": [
    "Par superposition de languettes NC sur des images vides"
   ]
  },
  {
   "cell_type": "code",
   "execution_count": 12,
   "id": "a0a2feda-5570-40d1-8b76-bc66edca2447",
   "metadata": {},
   "outputs": [],
   "source": [
    "# Init shift range\n",
    "s_x0 = 2\n",
    "s_x1 = 4\n",
    "s_y0 = 2\n",
    "s_y1 = 4\n",
    "s_a0 = 5\n",
    "s_a1 = 10"
   ]
  },
  {
   "cell_type": "code",
   "execution_count": 13,
   "id": "01d89121-7686-4af3-986e-fe228cb5abb1",
   "metadata": {},
   "outputs": [],
   "source": [
    "i = 0\n",
    "for bgd_path, w_path in product(glob.glob(os.path.join(EMPTY, \"*.bmp\")), glob.glob(os.path.join(SEGMENTED_TABS_NC, \"*.bmp\"))):\n",
    "    # SYNTHETIC_EMPTY\n",
    "    \n",
    "    bgd = cv2.imread(bgd_path)\n",
    "    w = cv2.imread(w_path)\n",
    "    \n",
    "    # Identifier les pixels noirs dans `w` (proches de [0, 0, 0])\n",
    "    mask_black = np.all(w < [50, 50, 50], axis=-1)  # Masque des pixels noirs\n",
    "\n",
    "    # Remplacer les pixels noirs par [0, 0, 0]\n",
    "    w[mask_black] = [0, 0, 0]\n",
    "\n",
    "    # Coller `w` dans la région spécifiée de `bgd`  \n",
    "    bgd[x0:x0+w.shape[0], y0:y0+w.shape[1]] = cv2.add(bgd[x0:x0+w.shape[0], y0:y0+w.shape[1]], w)   \n",
    "   \n",
    "    #plt.imshow(bgd)\n",
    "    #plt.show()\n",
    "\n",
    "    cv2.imwrite(os.path.join(SYNTHETIC_NC, f\"synth_NC_a_{i}.bmp\"), bgd)\n",
    "    \n",
    "    i += 1"
   ]
  },
  {
   "cell_type": "markdown",
   "id": "1ca0ea07-2c63-4b56-b168-d22062c0d728",
   "metadata": {},
   "source": [
    "Par superposition de languette conforme décalée sur des images vides"
   ]
  },
  {
   "cell_type": "code",
   "execution_count": 14,
   "id": "c171bd20-3044-4f9d-93e5-73b9535fe523",
   "metadata": {},
   "outputs": [],
   "source": [
    "i = 0\n",
    "for bgd_path, w_path in product(glob.glob(os.path.join(EMPTY, \"*.bmp\")), glob.glob(os.path.join(SEGMENTED_TABS_C, \"*.bmp\"))):\n",
    "    # SYNTHETIC_EMPTY\n",
    "    \n",
    "    bgd = cv2.imread(bgd_path)\n",
    "    w = Image.open(w_path)\n",
    "    \n",
    "    # Faire subir une rotation et une translation à languette\n",
    "    s_x = random.choice([random.randrange(-s_x1, -s_x0), random.randrange(s_x0, s_x1)])\n",
    "    s_y = random.choice([random.randrange(-s_y1, -s_y0), random.randrange(s_y0, s_y1)])\n",
    "    s_a = random.choice([random.randrange(-s_a1, -s_a0), random.randrange(s_a0, s_a1)])\n",
    "    \n",
    "    w = w.rotate(s_a, translate=(s_x, s_y))\n",
    "    \n",
    "    # Identifier les pixels noirs dans `w` (proches de [0, 0, 0])\n",
    "    w = np.array(w)\n",
    "    mask_black = np.all(w < [50, 50, 50], axis=-1)  # Masque des pixels noirs\n",
    "\n",
    "    # Remplacer les pixels noirs par [0, 0, 0]\n",
    "    w[mask_black] = [0, 0, 0]\n",
    "\n",
    "    # Coller `w` dans la région spécifiée de `bgd`  \n",
    "    bgd[x0:x0+w.shape[0], y0:y0+w.shape[1]] = cv2.add(bgd[x0:x0+w.shape[0], y0:y0+w.shape[1]], w)   \n",
    "   \n",
    "    #plt.imshow(bgd)\n",
    "    #plt.show()\n",
    "\n",
    "    cv2.imwrite(os.path.join(SYNTHETIC_NC, f\"synth_NC_b_{i}.bmp\"), bgd)\n",
    "    \n",
    "    i += 1"
   ]
  },
  {
   "cell_type": "markdown",
   "id": "7725f45c-59ec-4959-a3aa-f12c6851e72d",
   "metadata": {},
   "source": [
    "Par superposition de languette conforme décalée sur des images conformes"
   ]
  },
  {
   "cell_type": "code",
   "execution_count": 15,
   "id": "26dfb9fb-9bcc-4da8-8e12-20290be39a5b",
   "metadata": {},
   "outputs": [],
   "source": [
    "i = 0\n",
    "for bgd_path, w_path in product(glob.glob(os.path.join(C, \"*.bmp\")), glob.glob(os.path.join(SEGMENTED_TABS_C, \"*.bmp\"))):\n",
    "    # SYNTHETIC_EMPTY\n",
    "    \n",
    "    bgd = cv2.imread(bgd_path)\n",
    "    w = Image.open(w_path)\n",
    "    \n",
    "    # Faire subir une rotation et une translation à languette\n",
    "    s_x = random.choice([random.randrange(-s_x1, -s_x0), random.randrange(s_x0, s_x1)])\n",
    "    s_y = random.choice([random.randrange(-s_y1, -s_y0), random.randrange(s_y0, s_y1)])\n",
    "    s_a = random.choice([random.randrange(-s_a1, -s_a0), random.randrange(s_a0, s_a1)])\n",
    "    \n",
    "    w = w.rotate(s_a, translate=(s_x, s_y))\n",
    "    \n",
    "    # Identifier les pixels noirs dans `w` (proches de [0, 0, 0])\n",
    "    w = np.array(w)\n",
    "    mask_black = np.all(w < [50, 50, 50], axis=-1)  # Masque des pixels noirs\n",
    "\n",
    "    # Remplacer les pixels noirs par [0, 0, 0]\n",
    "    w[mask_black] = [0, 0, 0]\n",
    "\n",
    "    # Coller `w` dans la région spécifiée de `bgd`  \n",
    "    bgd[x0:x0+w.shape[0], y0:y0+w.shape[1]] = cv2.add(bgd[x0:x0+w.shape[0], y0:y0+w.shape[1]], w)   \n",
    "   \n",
    "    #plt.imshow(bgd)\n",
    "    #plt.show()\n",
    "\n",
    "    cv2.imwrite(os.path.join(SYNTHETIC_NC, f\"synth_NC_c_{i}.bmp\"), bgd)\n",
    "    \n",
    "    i += 1"
   ]
  },
  {
   "cell_type": "markdown",
   "id": "880da5ec-831a-43d0-b81b-a0e7d5e7bc54",
   "metadata": {},
   "source": [
    "Par superposition de deux languettes conformes décalées sur des images vides"
   ]
  },
  {
   "cell_type": "code",
   "execution_count": 16,
   "id": "363880d9-4414-4ee5-a1df-c18e7b3d0862",
   "metadata": {},
   "outputs": [],
   "source": [
    "i = 0\n",
    "for bgd_path, w_path in product(glob.glob(os.path.join(EMPTY, \"*.bmp\")), glob.glob(os.path.join(SEGMENTED_TABS_C, \"*.bmp\"))):\n",
    "    # SYNTHETIC_EMPTY\n",
    "    \n",
    "    bgd = cv2.imread(bgd_path)\n",
    "    w = Image.open(w_path)\n",
    "    \n",
    "    for k in [1,2]:\n",
    "        # Faire subir une rotation et une translation à languette\n",
    "        s_x = random.choice([random.randrange(-s_x1, -s_x0), random.randrange(s_x0, s_x1)])\n",
    "        s_y = random.choice([random.randrange(-s_y1, -s_y0), random.randrange(s_y0, s_y1)])\n",
    "        s_a = random.choice([random.randrange(-s_a1, -s_a0), random.randrange(s_a0, s_a1)])\n",
    "        \n",
    "        w = w.rotate(s_a, translate=(s_x, s_y))\n",
    "        \n",
    "        # Identifier les pixels noirs dans `w` (proches de [0, 0, 0])\n",
    "        w = np.array(w)\n",
    "        mask_black = np.all(w < [50, 50, 50], axis=-1)  # Masque des pixels noirs\n",
    "    \n",
    "        # Remplacer les pixels noirs par [0, 0, 0]\n",
    "        w[mask_black] = [0, 0, 0]\n",
    "    \n",
    "        # Coller `w` dans la région spécifiée de `bgd`  \n",
    "        bgd[x0:x0+w.shape[0], y0:y0+w.shape[1]] = cv2.add(bgd[x0:x0+w.shape[0], y0:y0+w.shape[1]], w)   \n",
    "\n",
    "        w = Image.fromarray(w)\n",
    "        #plt.imshow(bgd)\n",
    "        #plt.show()\n",
    "\n",
    "    cv2.imwrite(os.path.join(SYNTHETIC_NC, f\"synth_NC_d_{i}.bmp\"), bgd)\n",
    "    \n",
    "    i += 1"
   ]
  },
  {
   "cell_type": "markdown",
   "id": "d1cb5b21-5d20-47d6-a38d-d8a9ad56de83",
   "metadata": {},
   "source": [
    "# 4- Génération d'images synthétiques conformes"
   ]
  },
  {
   "cell_type": "code",
   "execution_count": 17,
   "id": "d7f10ee0-b8bb-4814-b050-2d0d1ee4e50e",
   "metadata": {},
   "outputs": [],
   "source": [
    "i = 0\n",
    "for bgd_path, w_path in product(glob.glob(os.path.join(EMPTY, \"*.bmp\")), glob.glob(os.path.join(SEGMENTED_TABS_C, \"*.bmp\"))):\n",
    "    # SYNTHETIC_EMPTY\n",
    "    \n",
    "    bgd = cv2.imread(bgd_path)\n",
    "    w = cv2.imread(w_path)\n",
    "    \n",
    "    # Identifier les pixels noirs dans `w` (proches de [0, 0, 0])\n",
    "    mask_black = np.all(w < [50, 50, 50], axis=-1)  # Masque des pixels noirs\n",
    "\n",
    "    # Remplacer les pixels noirs par [0, 0, 0]\n",
    "    w[mask_black] = [0, 0, 0]\n",
    "\n",
    "    # Coller `w` dans la région spécifiée de `bgd`  \n",
    "    bgd[x0:x0+w.shape[0], y0:y0+w.shape[1]] = cv2.add(bgd[x0:x0+w.shape[0], y0:y0+w.shape[1]], w)   \n",
    "   \n",
    "    #plt.imshow(bgd)\n",
    "    #plt.show()\n",
    "\n",
    "    cv2.imwrite(os.path.join(SYNTHETIC_C, f\"synth_C_{i}.bmp\"), bgd)\n",
    "    \n",
    "    i += 1"
   ]
  },
  {
   "cell_type": "code",
   "execution_count": 18,
   "id": "f180c78c-906e-4286-a7ef-e92123e54cd2",
   "metadata": {},
   "outputs": [
    {
     "data": {
      "text/plain": [
       "55.098100900650024"
      ]
     },
     "execution_count": 18,
     "metadata": {},
     "output_type": "execute_result"
    }
   ],
   "source": [
    "time()-t1"
   ]
  }
 ],
 "metadata": {
  "kernelspec": {
   "display_name": "Python 3 (ipykernel)",
   "language": "python",
   "name": "python3"
  },
  "language_info": {
   "codemirror_mode": {
    "name": "ipython",
    "version": 3
   },
   "file_extension": ".py",
   "mimetype": "text/x-python",
   "name": "python",
   "nbconvert_exporter": "python",
   "pygments_lexer": "ipython3",
   "version": "3.9.13"
  }
 },
 "nbformat": 4,
 "nbformat_minor": 5
}
